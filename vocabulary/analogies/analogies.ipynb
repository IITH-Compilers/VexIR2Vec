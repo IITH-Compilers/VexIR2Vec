{
 "cells": [
  {
   "cell_type": "code",
   "execution_count": null,
   "metadata": {},
   "outputs": [],
   "source": [
    "# Part of the VexIR2Vec Project, under the AGPL V3.0 License. See the\n",
    "# LICENSE file or <https://www.gnu.org/licenses/> for license information.\n",
    "\n",
    "import heapq\n",
    "import sys, re\n",
    "import numpy as np\n",
    "import pandas as pd \n",
    "from collections import OrderedDict\n",
    "from scipy import spatial"
   ]
  },
  {
   "cell_type": "code",
   "execution_count": null,
   "metadata": {},
   "outputs": [],
   "source": [
    "def findVec(str1, src):\n",
    "    f = open(src)\n",
    "    start = content.upper().find(\"\\n\"+str1.upper()+\":[\") + len(str1) + 3\n",
    "    if(start == -1):\n",
    "        print(str1, \" not found\")\n",
    "        return \n",
    "    else:\n",
    "        end = content.find(\"]\", start)\n",
    "        vecstr = content[start:end].split(\", \")\n",
    "        vec = [float(element) for element in vecstr]\n",
    "        # print(vec)\n",
    "        return vec"
   ]
  },
  {
   "cell_type": "code",
   "execution_count": null,
   "metadata": {},
   "outputs": [],
   "source": [
    "def genSimilarityTable(vec, src):\n",
    "    lines = [line.strip('\\n\\t') for line in open(src)]\n",
    "    cosineDict = {}\n",
    "    euclDict = {}\n",
    "    for line in lines:\n",
    "        opcode = line[0:line.find(\":[\")].upper()\n",
    "        valueStr = line[line.find(\":[\")+2:-2].split(\", \")\n",
    "        value = [float(element) for element in valueStr]\n",
    "        cosineDict[opcode] = spatial.distance.cosine(vec, value)\n",
    "        euclDict[opcode] = spatial.distance.euclidean(vec, value)\n",
    "    return cosineDict, euclDict"
   ]
  },
  {
   "cell_type": "code",
   "execution_count": null,
   "metadata": {},
   "outputs": [],
   "source": [
    "def findTopk(dict1, k, values):\n",
    "    sortedByVal = dict(sorted(dict1.items(), key=lambda x: x[1]))\n",
    "    del sortedByVal[values[0].upper()]\n",
    "    del sortedByVal[values[1].upper()]\n",
    "    del sortedByVal[values[2].upper()]\n",
    "    return {k: sortedByVal[k] for k in list(sortedByVal)[:k]}"
   ]
  },
  {
   "cell_type": "code",
   "execution_count": null,
   "metadata": {},
   "outputs": [],
   "source": [
    "refFile = '/path/to/analogies.txt'\n",
    "analogies = [line.strip('\\n') for line in open(refFile)]\n",
    "\n",
    "totalCnt = 0\n",
    "fileCorrectCnt = {}\n",
    "\n",
    "fns = [\n",
    "        \"/path/to/seedEmbeddings.txt\"\n",
    "        ] \n",
    "\n",
    "for fileName in fns:\n",
    "    print('\\n', '\\033[93m' + '\\033[4m' + fileName + '\\033[0m')\n",
    "    avg = []\n",
    "    correctCnt = 0\n",
    "    for analogy in analogies:\n",
    "        totalCnt = totalCnt+1\n",
    "        values = analogy.split(\" \")\n",
    "    \n",
    "        vecA = findVec(values[0], fileName)\n",
    "        vecB = findVec(values[1], fileName)\n",
    "        vecC = findVec(values[2], fileName)\n",
    "        vecD = np.asarray(vecB) - np.asarray(vecA) + np.asarray(vecC)\n",
    "        \n",
    "        \n",
    "        # print(vecD)\n",
    "        cosineDict, euclDict = genSimilarityTable(vecD, fileName)\n",
    "        topKCosineDict = findTopk(cosineDict,5,values)\n",
    "        if values[3].upper() in topKCosineDict:\n",
    "            correctCnt = correctCnt+1\n",
    "            print(values, ' : ', '\\033[92m' + u'\\u2713' + '\\033[0m', topKCosineDict.keys())\n",
    "            avg.append(topKCosineDict[values[3].upper()])\n",
    "        else:\n",
    "            print(values, ' : ', '\\033[91m' + u'\\u00D7' + '\\033[0m', topKCosineDict.keys())\n",
    "    fileCorrectCnt[fileName] = correctCnt\n",
    "print(\"Total #analogies = \", totalCnt/len(fns))\n",
    "print(fileCorrectCnt)   "
   ]
  }
 ],
 "metadata": {
  "kernelspec": {
   "display_name": "Python 3.6.7 ('IR2Vec')",
   "language": "python",
   "name": "python3"
  },
  "language_info": {
   "codemirror_mode": {
    "name": "ipython",
    "version": 3
   },
   "file_extension": ".py",
   "mimetype": "text/x-python",
   "name": "python",
   "nbconvert_exporter": "python",
   "pygments_lexer": "ipython3",
   "version": "3.8.13"
  },
  "orig_nbformat": 4,
  "vscode": {
   "interpreter": {
    "hash": "118880b30120f2f284cff3f37cb82a4d699e375e9c917bbaaad69f4894bf64cf"
   }
  }
 },
 "nbformat": 4,
 "nbformat_minor": 2
}
